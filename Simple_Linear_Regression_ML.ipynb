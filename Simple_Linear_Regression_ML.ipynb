{
 "cells": [
  {
   "cell_type": "markdown",
   "metadata": {},
   "source": [
    "# SIMPLE LINEAR REGRESSION"
   ]
  },
  {
   "cell_type": "code",
   "execution_count": 2,
   "metadata": {},
   "outputs": [],
   "source": [
    "#import libraries for ml \n",
    "import pandas as pd\n",
    "import numpy  as np\n",
    "import matplotlib.pyplot as plt"
   ]
  },
  {
   "cell_type": "code",
   "execution_count": 4,
   "metadata": {},
   "outputs": [
    {
     "data": {
      "text/html": [
       "<div>\n",
       "<style scoped>\n",
       "    .dataframe tbody tr th:only-of-type {\n",
       "        vertical-align: middle;\n",
       "    }\n",
       "\n",
       "    .dataframe tbody tr th {\n",
       "        vertical-align: top;\n",
       "    }\n",
       "\n",
       "    .dataframe thead th {\n",
       "        text-align: right;\n",
       "    }\n",
       "</style>\n",
       "<table border=\"1\" class=\"dataframe\">\n",
       "  <thead>\n",
       "    <tr style=\"text-align: right;\">\n",
       "      <th></th>\n",
       "      <th>MODELYEAR</th>\n",
       "      <th>MAKE</th>\n",
       "      <th>MODEL</th>\n",
       "      <th>VEHICLECLASS</th>\n",
       "      <th>ENGINESIZE</th>\n",
       "      <th>CYLINDERS</th>\n",
       "      <th>TRANSMISSION</th>\n",
       "      <th>FUELTYPE</th>\n",
       "      <th>FUELCONSUMPTION_CITY</th>\n",
       "      <th>FUELCONSUMPTION_HWY</th>\n",
       "      <th>FUELCONSUMPTION_COMB</th>\n",
       "      <th>FUELCONSUMPTION_COMB_MPG</th>\n",
       "      <th>CO2EMISSIONS</th>\n",
       "    </tr>\n",
       "  </thead>\n",
       "  <tbody>\n",
       "    <tr>\n",
       "      <th>66</th>\n",
       "      <td>2014</td>\n",
       "      <td>AUDI</td>\n",
       "      <td>TTS COUPE QUATTRO</td>\n",
       "      <td>SUBCOMPACT</td>\n",
       "      <td>2.0</td>\n",
       "      <td>4</td>\n",
       "      <td>A6</td>\n",
       "      <td>Z</td>\n",
       "      <td>11.5</td>\n",
       "      <td>8.8</td>\n",
       "      <td>10.3</td>\n",
       "      <td>27</td>\n",
       "      <td>237</td>\n",
       "    </tr>\n",
       "    <tr>\n",
       "      <th>67</th>\n",
       "      <td>2014</td>\n",
       "      <td>AUDI</td>\n",
       "      <td>TTS ROADSTER QUATTRO</td>\n",
       "      <td>TWO-SEATER</td>\n",
       "      <td>2.0</td>\n",
       "      <td>4</td>\n",
       "      <td>A6</td>\n",
       "      <td>Z</td>\n",
       "      <td>11.5</td>\n",
       "      <td>8.8</td>\n",
       "      <td>10.3</td>\n",
       "      <td>27</td>\n",
       "      <td>237</td>\n",
       "    </tr>\n",
       "    <tr>\n",
       "      <th>68</th>\n",
       "      <td>2014</td>\n",
       "      <td>BENTLEY</td>\n",
       "      <td>CONTINENTAL GT</td>\n",
       "      <td>SUBCOMPACT</td>\n",
       "      <td>4.0</td>\n",
       "      <td>8</td>\n",
       "      <td>AS8</td>\n",
       "      <td>Z</td>\n",
       "      <td>15.4</td>\n",
       "      <td>9.8</td>\n",
       "      <td>12.9</td>\n",
       "      <td>22</td>\n",
       "      <td>297</td>\n",
       "    </tr>\n",
       "    <tr>\n",
       "      <th>69</th>\n",
       "      <td>2014</td>\n",
       "      <td>BENTLEY</td>\n",
       "      <td>CONTINENTAL GT</td>\n",
       "      <td>SUBCOMPACT</td>\n",
       "      <td>6.0</td>\n",
       "      <td>12</td>\n",
       "      <td>AS8</td>\n",
       "      <td>Z</td>\n",
       "      <td>18.8</td>\n",
       "      <td>11.5</td>\n",
       "      <td>15.5</td>\n",
       "      <td>18</td>\n",
       "      <td>356</td>\n",
       "    </tr>\n",
       "    <tr>\n",
       "      <th>70</th>\n",
       "      <td>2014</td>\n",
       "      <td>BENTLEY</td>\n",
       "      <td>CONTINENTAL GT CONVERTIBLE</td>\n",
       "      <td>SUBCOMPACT</td>\n",
       "      <td>4.0</td>\n",
       "      <td>8</td>\n",
       "      <td>AS8</td>\n",
       "      <td>Z</td>\n",
       "      <td>16.8</td>\n",
       "      <td>10.3</td>\n",
       "      <td>13.9</td>\n",
       "      <td>20</td>\n",
       "      <td>320</td>\n",
       "    </tr>\n",
       "    <tr>\n",
       "      <th>71</th>\n",
       "      <td>2014</td>\n",
       "      <td>BENTLEY</td>\n",
       "      <td>CONTINENTAL GT SPEED CONVERTIBLE</td>\n",
       "      <td>SUBCOMPACT</td>\n",
       "      <td>6.0</td>\n",
       "      <td>12</td>\n",
       "      <td>AS8</td>\n",
       "      <td>Z</td>\n",
       "      <td>20.0</td>\n",
       "      <td>12.2</td>\n",
       "      <td>16.5</td>\n",
       "      <td>17</td>\n",
       "      <td>380</td>\n",
       "    </tr>\n",
       "    <tr>\n",
       "      <th>72</th>\n",
       "      <td>2014</td>\n",
       "      <td>BENTLEY</td>\n",
       "      <td>CONTINENTAL GTC</td>\n",
       "      <td>SUBCOMPACT</td>\n",
       "      <td>4.0</td>\n",
       "      <td>8</td>\n",
       "      <td>AS8</td>\n",
       "      <td>Z</td>\n",
       "      <td>16.7</td>\n",
       "      <td>10.6</td>\n",
       "      <td>14.0</td>\n",
       "      <td>20</td>\n",
       "      <td>322</td>\n",
       "    </tr>\n",
       "  </tbody>\n",
       "</table>\n",
       "</div>"
      ],
      "text/plain": [
       "    MODELYEAR     MAKE                             MODEL VEHICLECLASS  \\\n",
       "66       2014     AUDI                 TTS COUPE QUATTRO   SUBCOMPACT   \n",
       "67       2014     AUDI              TTS ROADSTER QUATTRO   TWO-SEATER   \n",
       "68       2014  BENTLEY                    CONTINENTAL GT   SUBCOMPACT   \n",
       "69       2014  BENTLEY                    CONTINENTAL GT   SUBCOMPACT   \n",
       "70       2014  BENTLEY        CONTINENTAL GT CONVERTIBLE   SUBCOMPACT   \n",
       "71       2014  BENTLEY  CONTINENTAL GT SPEED CONVERTIBLE   SUBCOMPACT   \n",
       "72       2014  BENTLEY                   CONTINENTAL GTC   SUBCOMPACT   \n",
       "\n",
       "    ENGINESIZE  CYLINDERS TRANSMISSION FUELTYPE  FUELCONSUMPTION_CITY  \\\n",
       "66         2.0          4           A6        Z                  11.5   \n",
       "67         2.0          4           A6        Z                  11.5   \n",
       "68         4.0          8          AS8        Z                  15.4   \n",
       "69         6.0         12          AS8        Z                  18.8   \n",
       "70         4.0          8          AS8        Z                  16.8   \n",
       "71         6.0         12          AS8        Z                  20.0   \n",
       "72         4.0          8          AS8        Z                  16.7   \n",
       "\n",
       "    FUELCONSUMPTION_HWY  FUELCONSUMPTION_COMB  FUELCONSUMPTION_COMB_MPG  \\\n",
       "66                  8.8                  10.3                        27   \n",
       "67                  8.8                  10.3                        27   \n",
       "68                  9.8                  12.9                        22   \n",
       "69                 11.5                  15.5                        18   \n",
       "70                 10.3                  13.9                        20   \n",
       "71                 12.2                  16.5                        17   \n",
       "72                 10.6                  14.0                        20   \n",
       "\n",
       "    CO2EMISSIONS  \n",
       "66           237  \n",
       "67           237  \n",
       "68           297  \n",
       "69           356  \n",
       "70           320  \n",
       "71           380  \n",
       "72           322  "
      ]
     },
     "execution_count": 4,
     "metadata": {},
     "output_type": "execute_result"
    }
   ],
   "source": [
    "#loading data in to pandas dataframe\n",
    "df=pd.read_csv(\"FuelConsumptionCo2.csv\")\n",
    "df.head() #first five rows\n",
    "df.tail() #last five rows\n",
    "len(df) #total rows\n",
    "df.columns #columns names\n",
    "df['MODELYEAR'] #specific column\n",
    "df[['MODELYEAR','MAKE']] #multiple columns\n",
    "df[66:73] #slicing specing rows"
   ]
  },
  {
   "cell_type": "code",
   "execution_count": 3,
   "metadata": {},
   "outputs": [
    {
     "data": {
      "text/html": [
       "<div>\n",
       "<style scoped>\n",
       "    .dataframe tbody tr th:only-of-type {\n",
       "        vertical-align: middle;\n",
       "    }\n",
       "\n",
       "    .dataframe tbody tr th {\n",
       "        vertical-align: top;\n",
       "    }\n",
       "\n",
       "    .dataframe thead th {\n",
       "        text-align: right;\n",
       "    }\n",
       "</style>\n",
       "<table border=\"1\" class=\"dataframe\">\n",
       "  <thead>\n",
       "    <tr style=\"text-align: right;\">\n",
       "      <th></th>\n",
       "      <th>MODELYEAR</th>\n",
       "      <th>ENGINESIZE</th>\n",
       "      <th>CYLINDERS</th>\n",
       "      <th>FUELCONSUMPTION_CITY</th>\n",
       "      <th>FUELCONSUMPTION_HWY</th>\n",
       "      <th>FUELCONSUMPTION_COMB</th>\n",
       "      <th>FUELCONSUMPTION_COMB_MPG</th>\n",
       "      <th>CO2EMISSIONS</th>\n",
       "    </tr>\n",
       "  </thead>\n",
       "  <tbody>\n",
       "    <tr>\n",
       "      <th>count</th>\n",
       "      <td>1067.0</td>\n",
       "      <td>1067.000000</td>\n",
       "      <td>1067.000000</td>\n",
       "      <td>1067.000000</td>\n",
       "      <td>1067.000000</td>\n",
       "      <td>1067.000000</td>\n",
       "      <td>1067.000000</td>\n",
       "      <td>1067.000000</td>\n",
       "    </tr>\n",
       "    <tr>\n",
       "      <th>mean</th>\n",
       "      <td>2014.0</td>\n",
       "      <td>3.346298</td>\n",
       "      <td>5.794752</td>\n",
       "      <td>13.296532</td>\n",
       "      <td>9.474602</td>\n",
       "      <td>11.580881</td>\n",
       "      <td>26.441425</td>\n",
       "      <td>256.228679</td>\n",
       "    </tr>\n",
       "    <tr>\n",
       "      <th>std</th>\n",
       "      <td>0.0</td>\n",
       "      <td>1.415895</td>\n",
       "      <td>1.797447</td>\n",
       "      <td>4.101253</td>\n",
       "      <td>2.794510</td>\n",
       "      <td>3.485595</td>\n",
       "      <td>7.468702</td>\n",
       "      <td>63.372304</td>\n",
       "    </tr>\n",
       "    <tr>\n",
       "      <th>min</th>\n",
       "      <td>2014.0</td>\n",
       "      <td>1.000000</td>\n",
       "      <td>3.000000</td>\n",
       "      <td>4.600000</td>\n",
       "      <td>4.900000</td>\n",
       "      <td>4.700000</td>\n",
       "      <td>11.000000</td>\n",
       "      <td>108.000000</td>\n",
       "    </tr>\n",
       "    <tr>\n",
       "      <th>25%</th>\n",
       "      <td>2014.0</td>\n",
       "      <td>2.000000</td>\n",
       "      <td>4.000000</td>\n",
       "      <td>10.250000</td>\n",
       "      <td>7.500000</td>\n",
       "      <td>9.000000</td>\n",
       "      <td>21.000000</td>\n",
       "      <td>207.000000</td>\n",
       "    </tr>\n",
       "    <tr>\n",
       "      <th>50%</th>\n",
       "      <td>2014.0</td>\n",
       "      <td>3.400000</td>\n",
       "      <td>6.000000</td>\n",
       "      <td>12.600000</td>\n",
       "      <td>8.800000</td>\n",
       "      <td>10.900000</td>\n",
       "      <td>26.000000</td>\n",
       "      <td>251.000000</td>\n",
       "    </tr>\n",
       "    <tr>\n",
       "      <th>75%</th>\n",
       "      <td>2014.0</td>\n",
       "      <td>4.300000</td>\n",
       "      <td>8.000000</td>\n",
       "      <td>15.550000</td>\n",
       "      <td>10.850000</td>\n",
       "      <td>13.350000</td>\n",
       "      <td>31.000000</td>\n",
       "      <td>294.000000</td>\n",
       "    </tr>\n",
       "    <tr>\n",
       "      <th>max</th>\n",
       "      <td>2014.0</td>\n",
       "      <td>8.400000</td>\n",
       "      <td>12.000000</td>\n",
       "      <td>30.200000</td>\n",
       "      <td>20.500000</td>\n",
       "      <td>25.800000</td>\n",
       "      <td>60.000000</td>\n",
       "      <td>488.000000</td>\n",
       "    </tr>\n",
       "  </tbody>\n",
       "</table>\n",
       "</div>"
      ],
      "text/plain": [
       "       MODELYEAR   ENGINESIZE    CYLINDERS  FUELCONSUMPTION_CITY  \\\n",
       "count     1067.0  1067.000000  1067.000000           1067.000000   \n",
       "mean      2014.0     3.346298     5.794752             13.296532   \n",
       "std          0.0     1.415895     1.797447              4.101253   \n",
       "min       2014.0     1.000000     3.000000              4.600000   \n",
       "25%       2014.0     2.000000     4.000000             10.250000   \n",
       "50%       2014.0     3.400000     6.000000             12.600000   \n",
       "75%       2014.0     4.300000     8.000000             15.550000   \n",
       "max       2014.0     8.400000    12.000000             30.200000   \n",
       "\n",
       "       FUELCONSUMPTION_HWY  FUELCONSUMPTION_COMB  FUELCONSUMPTION_COMB_MPG  \\\n",
       "count          1067.000000           1067.000000               1067.000000   \n",
       "mean              9.474602             11.580881                 26.441425   \n",
       "std               2.794510              3.485595                  7.468702   \n",
       "min               4.900000              4.700000                 11.000000   \n",
       "25%               7.500000              9.000000                 21.000000   \n",
       "50%               8.800000             10.900000                 26.000000   \n",
       "75%              10.850000             13.350000                 31.000000   \n",
       "max              20.500000             25.800000                 60.000000   \n",
       "\n",
       "       CO2EMISSIONS  \n",
       "count   1067.000000  \n",
       "mean     256.228679  \n",
       "std       63.372304  \n",
       "min      108.000000  \n",
       "25%      207.000000  \n",
       "50%      251.000000  \n",
       "75%      294.000000  \n",
       "max      488.000000  "
      ]
     },
     "execution_count": 3,
     "metadata": {},
     "output_type": "execute_result"
    }
   ],
   "source": [
    "df.describe() #for data exploration"
   ]
  },
  {
   "cell_type": "code",
   "execution_count": 10,
   "metadata": {},
   "outputs": [
    {
     "data": {
      "image/png": "[encoded data removed]",
      "text/plain": [
       "<Figure size 432x288 with 4 Axes>"
      ]
     },
     "metadata": {
      "needs_background": "light"
     },
     "output_type": "display_data"
    }
   ],
   "source": [
    "features=df[['CYLINDERS','ENGINESIZE','FUELCONSUMPTION_COMB','CO2EMISSIONS']]\n",
    "features.hist()#plotting histogram\n",
    "plt.show() #show the histogeram"
   ]
  },
  {
   "cell_type": "code",
   "execution_count": 5,
   "metadata": {},
   "outputs": [
    {
     "data": {
      "image/png": "[encoded data removed]",
      "text/plain": [
       "<Figure size 432x288 with 1 Axes>"
      ]
     },
     "metadata": {
      "needs_background": "light"
     },
     "output_type": "display_data"
    }
   ],
   "source": [
    "plt.scatter(df.ENGINESIZE,df.CO2EMISSIONS,color=\"red\")#plotting scatter plot for enginesize vs co2emissions\n",
    "plt.xlabel(\"ENGINESIZE\")\n",
    "plt.ylabel(\"CO2EMISSIONS\")\n",
    "plt.show()"
   ]
  },
  {
   "cell_type": "code",
   "execution_count": 6,
   "metadata": {},
   "outputs": [
    {
     "data": {
      "image/png": "[encoded data removed]",
      "text/plain": [
       "<Figure size 432x288 with 1 Axes>"
      ]
     },
     "metadata": {
      "needs_background": "light"
     },
     "output_type": "display_data"
    }
   ],
   "source": [
    "plt.scatter(df.FUELCONSUMPTION_COMB,df.CO2EMISSIONS,color=\"orange\")#plotting scatter plot for FC vd CO2\n",
    "plt.xlabel(\"FUELCONSUMPTION_COMB\")\n",
    "plt.ylabel(\"CO2EMISSIONS\")\n",
    "plt.show()"
   ]
  },
  {
   "cell_type": "code",
   "execution_count": 7,
   "metadata": {},
   "outputs": [
    {
     "data": {
      "image/png": "[encoded data removed]",
      "text/plain": [
       "<Figure size 432x288 with 1 Axes>"
      ]
     },
     "metadata": {
      "needs_background": "light"
     },
     "output_type": "display_data"
    }
   ],
   "source": [
    "plt.scatter(df[\"CYLINDERS\"],df['CO2EMISSIONS'],color=\"blue\")#PLOTTING SCATTER PLOT FOR CYLINDERS VS CO2\n",
    "plt.xlabel(\"CYLINDERS\")\n",
    "plt.ylabel(\"CO2EMISSIONS\")\n",
    "plt.show()"
   ]
  },
  {
   "cell_type": "markdown",
   "metadata": {},
   "source": [
    "# CREATING TRAIN AND TEST DATASET"
   ]
  },
  {
   "cell_type": "code",
   "execution_count": 11,
   "metadata": {},
   "outputs": [
    {
     "name": "stdout",
     "output_type": "stream",
     "text": [
      "      CYLINDERS  ENGINESIZE  FUELCONSUMPTION_COMB  CO2EMISSIONS\n",
      "0             4         2.0                   8.5           196\n",
      "1             4         2.4                   9.6           221\n",
      "2             4         1.5                   5.9           136\n",
      "3             6         3.5                  11.1           255\n",
      "4             6         3.5                  10.6           244\n",
      "...         ...         ...                   ...           ...\n",
      "1059          6         3.2                  10.2           235\n",
      "1060          6         3.0                  11.5           264\n",
      "1061          6         3.2                  11.2           258\n",
      "1062          6         3.0                  11.8           271\n",
      "1064          6         3.0                  11.8           271\n",
      "\n",
      "[845 rows x 4 columns]\n",
      "      CYLINDERS  ENGINESIZE  FUELCONSUMPTION_COMB  CO2EMISSIONS\n",
      "11            6         3.5                  10.4           239\n",
      "14            8         4.7                  14.7           338\n",
      "16            8         4.7                  14.7           338\n",
      "27            6         3.0                   8.3           224\n",
      "34            8         4.0                  12.5           288\n",
      "...         ...         ...                   ...           ...\n",
      "1049          4         2.0                   6.8           184\n",
      "1052          4         2.0                  11.6           267\n",
      "1063          6         3.2                  11.5           264\n",
      "1065          6         3.2                  11.3           260\n",
      "1066          6         3.2                  12.8           294\n",
      "\n",
      "[222 rows x 4 columns]\n"
     ]
    }
   ],
   "source": [
    "mask=np.random.rand(len(df)) < 0.8\n",
    "train=features[mask]#train dataset\n",
    "test=features[~mask]# test dataset but both are exclusive datasets\n",
    "print(train)\n",
    "print(test)"
   ]
  },
  {
   "cell_type": "code",
   "execution_count": 12,
   "metadata": {},
   "outputs": [
    {
     "data": {
      "image/png": "[encoded data removed]",
      "text/plain": [
       "<Figure size 432x288 with 1 Axes>"
      ]
     },
     "metadata": {
      "needs_background": "light"
     },
     "output_type": "display_data"
    }
   ],
   "source": [
    "plt.scatter(train.ENGINESIZE,train.CO2EMISSIONS,color='red')#scatter plot for train enginesize vs co2emissions \n",
    "plt.xlabel(\"ENGINESIZE\")\n",
    "plt.ylabel(\"CO2EMISSIONS\")\n",
    "plt.show()"
   ]
  },
  {
   "cell_type": "markdown",
   "metadata": {},
   "source": [
    "# MODELING"
   ]
  },
  {
   "cell_type": "code",
   "execution_count": 14,
   "metadata": {},
   "outputs": [
    {
     "name": "stdout",
     "output_type": "stream",
     "text": [
      "Coefiicients [[38.97875723]]\n",
      "Intercept [125.83584352]\n"
     ]
    }
   ],
   "source": [
    "from sklearn import linear_model #import linearmodle from scikit learn library\n",
    "regr=linear_model.LinearRegression() #import linear regeression model\n",
    "train_x=np.asanyarray(train[['ENGINESIZE']]) #converting train_X into array\n",
    "train_y=np.asanyarray(train[['CO2EMISSIONS']])#converting train)y into array\n",
    "regr.fit(train_x,train_y)\n",
    "print('Coefiicients',regr.coef_)\n",
    "print('Intercept',regr.intercept_)\n",
    "# y=a+bx  so y=123.87090112+39.60226175*x"
   ]
  },
  {
   "cell_type": "code",
   "execution_count": 15,
   "metadata": {},
   "outputs": [
    {
     "data": {
      "image/png": "[encoded data removed]",
      "text/plain": [
       "<Figure size 432x288 with 1 Axes>"
      ]
     },
     "metadata": {
      "needs_background": "light"
     },
     "output_type": "display_data"
    },
    {
     "name": "stdout",
     "output_type": "stream",
     "text": [
      "38.97875722968807\n"
     ]
    }
   ],
   "source": [
    "plt.scatter(train.ENGINESIZE,train.CO2EMISSIONS,color=\"red\")\n",
    "plt.plot(train_x,regr.coef_[0][0]*train_x+regr.intercept_[0],'red')#best fit line\n",
    "plt.xlabel(\"ENGINESIZE\")\n",
    "plt.ylabel(\"CO2EMISSIONS\")\n",
    "plt.show()\n",
    "print(regr.coef_[0][0])"
   ]
  },
  {
   "cell_type": "code",
   "execution_count": 47,
   "metadata": {},
   "outputs": [
    {
     "data": {
      "text/plain": [
       "array([[361.49267159]])"
      ]
     },
     "execution_count": 47,
     "metadata": {},
     "output_type": "execute_result"
    }
   ],
   "source": [
    "regr.predict([[6]]) #prediction of engine 6"
   ]
  },
  {
   "cell_type": "code",
   "execution_count": 56,
   "metadata": {},
   "outputs": [
    {
     "name": "stdout",
     "output_type": "stream",
     "text": [
      "[[262.48701723]\n",
      " [270.40746958]\n",
      " [218.92452931]\n",
      " [203.08362461]\n",
      " [203.08362461]\n",
      " [290.20860045]\n",
      " [329.8108622 ]\n",
      " [290.20860045]\n",
      " [242.68588636]\n",
      " [242.68588636]] [[255]\n",
      " [267]\n",
      " [225]\n",
      " [230]\n",
      " [214]\n",
      " [407]\n",
      " [409]\n",
      " [407]\n",
      " [262]\n",
      " [285]]\n"
     ]
    }
   ],
   "source": [
    "from sklearn.metrics import r2_score\n",
    "test_x=np.asanyarray(test[['ENGINESIZE']])\n",
    "test_y=np.asanyarray(test[['CO2EMISSIONS']])\n",
    "test_y_pre=regr.predict(test_x) #predict test x\n",
    "print(test_y_pre[0:10],test_y[0:10]) #compare first ten predicted values and actual values "
   ]
  },
  {
   "cell_type": "code",
   "execution_count": 64,
   "metadata": {},
   "outputs": [
    {
     "name": "stdout",
     "output_type": "stream",
     "text": [
      "25.219007651384764 mean absolute error\n",
      "1132.1506607932301 residual mean square error\n",
      "0.6249912602635699 r2 score\n"
     ]
    }
   ],
   "source": [
    "print(np.mean(np.absolute(test_y_pre-test_y)),\"mean absolute error\")\n",
    "print(np.mean((test_y_pre-test_y)**2),\"residual mean square error\")\n",
    "print(r2_score(test_y_pre,test_y),\"r2 score\")"
   ]
  }
 ],
 "metadata": {
  "kernelspec": {
   "display_name": "Python 3",
   "language": "python",
   "name": "python3"
  },
  "language_info": {
   "codemirror_mode": {
    "name": "ipython",
    "version": 3
   },
   "file_extension": ".py",
   "mimetype": "text/x-python",
   "name": "python",
   "nbconvert_exporter": "python",
   "pygments_lexer": "ipython3",
   "version": "3.7.3"
  }
 },
 "nbformat": 4,
 "nbformat_minor": 2
}
